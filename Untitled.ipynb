{
 "cells": [
  {
   "cell_type": "code",
   "execution_count": 47,
   "metadata": {},
   "outputs": [],
   "source": [
    "import pandas as pd\n",
    "import numpy as np"
   ]
  },
  {
   "cell_type": "code",
   "execution_count": 2,
   "metadata": {},
   "outputs": [
    {
     "name": "stderr",
     "output_type": "stream",
     "text": [
      "/usr/local/lib/python3.6/site-packages/numpy/lib/arraysetops.py:472: FutureWarning: elementwise comparison failed; returning scalar instead, but in the future will perform elementwise comparison\n",
      "  mask |= (ar1 == a)\n",
      "/usr/local/lib/python3.6/site-packages/IPython/core/interactiveshell.py:2785: DtypeWarning: Columns (0,1,5,6) have mixed types. Specify dtype option on import or set low_memory=False.\n",
      "  interactivity=interactivity, compiler=compiler, result=result)\n"
     ]
    }
   ],
   "source": [
    "relations_df = pd.read_csv('relations.csv',index_col=0)\n",
    "users_df = pd.read_csv('users.csv',index_col=0)"
   ]
  },
  {
   "cell_type": "code",
   "execution_count": 3,
   "metadata": {},
   "outputs": [
    {
     "name": "stdout",
     "output_type": "stream",
     "text": [
      "<class 'pandas.core.frame.DataFrame'>\n",
      "Int64Index: 1096835 entries, 0 to 1409990\n",
      "Data columns (total 4 columns):\n",
      "id                 1096835 non-null int64\n",
      "followed_id        1096835 non-null int64\n",
      "follow_id          1096835 non-null int64\n",
      "follow_username    1096835 non-null object\n",
      "dtypes: int64(3), object(1)\n",
      "memory usage: 41.8+ MB\n",
      "None\n",
      "<class 'pandas.core.frame.DataFrame'>\n",
      "Index: 760203 entries, 0 to 959560\n",
      "Data columns (total 11 columns):\n",
      "id                  760203 non-null object\n",
      "user_id             760198 non-null float64\n",
      "full_name           689381 non-null object\n",
      "username            751649 non-null object\n",
      "biography           5273 non-null object\n",
      "edge_followed_by    6783 non-null object\n",
      "edge_follow         6778 non-null float64\n",
      "is_private          6783 non-null float64\n",
      "profile_pic_url     751649 non-null object\n",
      "media_count         6778 non-null float64\n",
      "is_fetch            751649 non-null float64\n",
      "dtypes: float64(5), object(6)\n",
      "memory usage: 69.6+ MB\n",
      "None\n"
     ]
    }
   ],
   "source": [
    "relations_df.columns = ['id','followed_id','follow_id','follow_username']\n",
    "print(relations_df.info())\n",
    "print(users_df.info())"
   ]
  },
  {
   "cell_type": "code",
   "execution_count": 48,
   "metadata": {},
   "outputs": [],
   "source": [
    "username = users_df[['user_id','username']]\n",
    "username = username[np.isfinite(username['user_id'])]\n",
    "username['user_id'] = username['user_id'].astype('int')"
   ]
  },
  {
   "cell_type": "code",
   "execution_count": null,
   "metadata": {},
   "outputs": [],
   "source": [
    "relations_df = relations_df.merge(username,left_on='followed_id',right_on='user_id').drop(columns=['id','user_id'])"
   ]
  },
  {
   "cell_type": "code",
   "execution_count": 7,
   "metadata": {},
   "outputs": [
    {
     "name": "stdout",
     "output_type": "stream",
     "text": [
      "<class 'pandas.core.frame.DataFrame'>\n",
      "Int64Index: 1096835 entries, 0 to 1096834\n",
      "Data columns (total 4 columns):\n",
      "followed_id          1096835 non-null object\n",
      "follow_id            1096835 non-null int64\n",
      "follow_username      1096835 non-null object\n",
      "followed_username    1096835 non-null object\n",
      "dtypes: int64(1), object(3)\n",
      "memory usage: 41.8+ MB\n",
      "None\n"
     ]
    }
   ],
   "source": [
    "relations_df.columns=['followed_id','follow_id','follow_username','followed_username']\n",
    "print(relations_df.info())"
   ]
  },
  {
   "cell_type": "code",
   "execution_count": 8,
   "metadata": {},
   "outputs": [
    {
     "name": "stdout",
     "output_type": "stream",
     "text": [
      "  followed_id   follow_id         follow_username followed_username\n",
      "0    30305044  7492701987               impang39s          tidjungs\n",
      "1    30305044  7449799626           wangsuwattana          tidjungs\n",
      "2    30305044  3189033117         earthvilasineee          tidjungs\n",
      "3    30305044  5739741310  vene.veneka_whiteskins          tidjungs\n",
      "4    30305044  7188036343        cherryberrymelon          tidjungs\n"
     ]
    }
   ],
   "source": [
    "print(relations_df.head())"
   ]
  },
  {
   "cell_type": "code",
   "execution_count": 9,
   "metadata": {},
   "outputs": [],
   "source": [
    "import networkx as nx\n",
    "G = nx.Graph()"
   ]
  },
  {
   "cell_type": "code",
   "execution_count": 11,
   "metadata": {},
   "outputs": [],
   "source": [
    "edge = relations_df[['followed_id','follow_id']].values"
   ]
  },
  {
   "cell_type": "code",
   "execution_count": 12,
   "metadata": {},
   "outputs": [],
   "source": [
    "G.add_edges_from(edge)"
   ]
  },
  {
   "cell_type": "code",
   "execution_count": 13,
   "metadata": {},
   "outputs": [
    {
     "name": "stdout",
     "output_type": "stream",
     "text": [
      "829721\n",
      "1094650\n"
     ]
    }
   ],
   "source": [
    "print(G.number_of_nodes())\n",
    "print(G.number_of_edges())"
   ]
  },
  {
   "cell_type": "code",
   "execution_count": null,
   "metadata": {},
   "outputs": [],
   "source": [
    "# rank = nx.pagerank(G)"
   ]
  },
  {
   "cell_type": "code",
   "execution_count": null,
   "metadata": {},
   "outputs": [],
   "source": [
    "# print(rank)"
   ]
  },
  {
   "cell_type": "code",
   "execution_count": 16,
   "metadata": {},
   "outputs": [],
   "source": [
    "degree = G.degree()"
   ]
  },
  {
   "cell_type": "code",
   "execution_count": 73,
   "metadata": {},
   "outputs": [],
   "source": [
    "degree_filtered = [k for k,v in degree if v > 5000]\n"
   ]
  },
  {
   "cell_type": "code",
   "execution_count": 74,
   "metadata": {},
   "outputs": [
    {
     "name": "stdout",
     "output_type": "stream",
     "text": [
      "829721 14\n"
     ]
    }
   ],
   "source": [
    "print(len(degree),len(degree_filtered))\n"
   ]
  },
  {
   "cell_type": "code",
   "execution_count": 75,
   "metadata": {},
   "outputs": [
    {
     "name": "stdout",
     "output_type": "stream",
     "text": [
      "[5747064396, 1648997578, 2318393645, 1643599556, 145357131, 23383134, 1057884511, 539186238, 221889829, 10506541, 39508274, 7951382, 52835002, 45936738]\n"
     ]
    }
   ],
   "source": [
    "print(degree_filtered)"
   ]
  },
  {
   "cell_type": "code",
   "execution_count": 76,
   "metadata": {},
   "outputs": [
    {
     "name": "stdout",
     "output_type": "stream",
     "text": [
      "{5747064396: 'jesicajearl', 1057884511: 'snowskincare', 539186238: 'makeupcold', 1648997578: 'chique_trends', 221889829: 'brand.n.me', 2318393645: 'pangkloset2', 10506541: 'teennoy', 39508274: 'hisocollagen1088', 7951382: 'hangarang', 52835002: 'igbeautyss_', 45936738: 'crabyourhandofficial', 1643599556: 'noeywarann', 145357131: 'goofgiftzarr', 23383134: 'cosmebymay_shop'}\n"
     ]
    }
   ],
   "source": [
    "name ={v[0]:v[1] for v in username[username['user_id'].isin(degree_filtered)].values}\n",
    "print(name)"
   ]
  },
  {
   "cell_type": "code",
   "execution_count": 77,
   "metadata": {},
   "outputs": [],
   "source": [
    "H = G.subgraph(degree_filtered)"
   ]
  },
  {
   "cell_type": "code",
   "execution_count": 78,
   "metadata": {},
   "outputs": [],
   "source": [
    "H = nx.relabel_nodes(H,name)"
   ]
  },
  {
   "cell_type": "code",
   "execution_count": 79,
   "metadata": {},
   "outputs": [],
   "source": [
    "%matplotlib inline \n",
    "import matplotlib.pyplot as plt"
   ]
  },
  {
   "cell_type": "code",
   "execution_count": 82,
   "metadata": {},
   "outputs": [
    {
     "data": {
      "image/png": "[encoded data removed]",
      "text/plain": [
       "<Figure size 432x288 with 1 Axes>"
      ]
     },
     "metadata": {},
     "output_type": "display_data"
    }
   ],
   "source": [
    "nx.draw_networkx(H)"
   ]
  },
  {
   "cell_type": "code",
   "execution_count": 81,
   "metadata": {},
   "outputs": [
    {
     "name": "stdout",
     "output_type": "stream",
     "text": [
      "[('crabyourhandofficial', 'hisocollagen1088'), ('crabyourhandofficial', 'igbeautyss_'), ('brand.n.me', 'hisocollagen1088'), ('brand.n.me', 'pangkloset2'), ('goofgiftzarr', 'snowskincare'), ('teennoy', 'hisocollagen1088'), ('hisocollagen1088', 'igbeautyss_'), ('makeupcold', 'cosmebymay_shop')]\n"
     ]
    }
   ],
   "source": [
    "print(H.edges)"
   ]
  },
  {
   "cell_type": "code",
   "execution_count": null,
   "metadata": {},
   "outputs": [],
   "source": []
  }
 ],
 "metadata": {
  "kernelspec": {
   "display_name": "Python 3",
   "language": "python",
   "name": "python3"
  },
  "language_info": {
   "codemirror_mode": {
    "name": "ipython",
    "version": 3
   },
   "file_extension": ".py",
   "mimetype": "text/x-python",
   "name": "python",
   "nbconvert_exporter": "python",
   "pygments_lexer": "ipython3",
   "version": "3.6.5"
  }
 },
 "nbformat": 4,
 "nbformat_minor": 2
}
